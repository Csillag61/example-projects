{
 "cells": [
  {
   "cell_type": "markdown",
   "metadata": {},
   "source": [
    "# Linear Program/network project by Paige McKenzie\n",
    "\n",
    "Includes code to perform analysis discussed in my [blog post]().\n",
    "\n",
    "Good reference source: my previous [work](https://github.com/p-mckenzie/example-projects/blob/925661d96675048d7faed1ddcb89ca41b708d149/Edmunds%20analysis.ipynb)."
   ]
  },
  {
   "cell_type": "code",
   "execution_count": null,
   "metadata": {},
   "outputs": [],
   "source": [
    "import pandas as pd\n",
    "import matplotlib.pyplot as plt\n",
    "\n",
    "import networkx as nx"
   ]
  },
  {
   "cell_type": "code",
   "execution_count": null,
   "metadata": {},
   "outputs": [],
   "source": [
    "pairs = pd.read_csv(\"Snowshoe_data.csv\")\n",
    "pairs.head()"
   ]
  },
  {
   "cell_type": "code",
   "execution_count": null,
   "metadata": {},
   "outputs": [],
   "source": [
    "edges = pairs.apply(lambda row:(row['Start'], row['End'], {'Name':row['Name'], 'Type':row['Type']}), axis=1).values"
   ]
  },
  {
   "cell_type": "code",
   "execution_count": null,
   "metadata": {},
   "outputs": [],
   "source": [
    "MG = nx.MultiGraph()"
   ]
  },
  {
   "cell_type": "code",
   "execution_count": null,
   "metadata": {},
   "outputs": [],
   "source": [
    "keys = MG.add_edges_from(edges)"
   ]
  },
  {
   "cell_type": "code",
   "execution_count": null,
   "metadata": {},
   "outputs": [],
   "source": [
    "# get the positions of each item in the network\n",
    "positions = pd.DataFrame(nx.spring_layout(MG, seed=1), index=['x','y']).T\n",
    "\n",
    "# initialize color column for edge data\n",
    "pairs['color'] = pairs['Type'].str.lower().replace('lift', 'grey')"
   ]
  },
  {
   "cell_type": "code",
   "execution_count": null,
   "metadata": {},
   "outputs": [],
   "source": [
    "from bokeh.plotting import Figure, show, output_notebook#, output_file\n",
    "from bokeh.models import GraphRenderer, StaticLayoutProvider, ColumnDataSource, MultiLine, Circle, LabelSet\n",
    "output_notebook()\n",
    "\n",
    "\n",
    "fig = Figure(title=\"Test\", x_range=(-1.1,1.1), y_range=(-1.1,1.1),\n",
    "              tools=\"\", toolbar_location=None)\n",
    "\n",
    "# plot the nodes\n",
    "fig.circle(x='x', y='y', size=15, source=ColumnDataSource(positions))\n",
    "\n",
    "# make the graph\n",
    "graph = GraphRenderer()\n",
    "\n",
    "# intialize the nodes\n",
    "graph.node_renderer.glyph = Circle(size=15, fill_color='blue')\n",
    "graph.node_renderer.data_source.data = dict(\n",
    "    index=positions.index.values)\n",
    "\n",
    "# plot the edges\n",
    "graph.edge_renderer.glyph = MultiLine(line_color=\"color\", line_width=5)\n",
    "graph.edge_renderer.data_source.data = dict(\n",
    "    start=pairs['Start'].values,\n",
    "    end=pairs['End'].values,\n",
    "    color=pairs['color'].values)\n",
    "\n",
    "# tell the graph where the nodes are\n",
    "source = dict(zip(positions.index.values, zip(positions['x'].values, positions['y'].values)))\n",
    "\n",
    "graph_layout = source\n",
    "graph.layout_provider = StaticLayoutProvider(graph_layout=graph_layout)\n",
    "\n",
    "fig.renderers.append(graph)\n",
    "\n",
    "# add labels to each node\n",
    "labels = LabelSet(x='x', y='y', text='index', text_align='right', x_offset=-10, y_offset=10,\n",
    "              text_color='black', level='glyph',\n",
    "              source=ColumnDataSource(positions), text_font_size='8pt')\n",
    "\n",
    "fig.add_layout(labels)\n",
    "\n",
    "\n",
    "\n",
    "show(fig)"
   ]
  }
 ],
 "metadata": {
  "kernelspec": {
   "display_name": "Python 3",
   "language": "python",
   "name": "python3"
  },
  "language_info": {
   "codemirror_mode": {
    "name": "ipython",
    "version": 3
   },
   "file_extension": ".py",
   "mimetype": "text/x-python",
   "name": "python",
   "nbconvert_exporter": "python",
   "pygments_lexer": "ipython3",
   "version": "3.6.5"
  }
 },
 "nbformat": 4,
 "nbformat_minor": 2
}
