{
 "cells": [
  {
   "cell_type": "code",
   "execution_count": null,
   "metadata": {},
   "outputs": [],
   "source": [
    "from selenium import webdriver\n",
    "import pandas as pd\n",
    "import time, re, os"
   ]
  },
  {
   "cell_type": "code",
   "execution_count": null,
   "metadata": {},
   "outputs": [],
   "source": [
    "os.path.abspath(\".\")"
   ]
  },
  {
   "cell_type": "code",
   "execution_count": null,
   "metadata": {},
   "outputs": [],
   "source": [
    "#start Selenium webdriver\n",
    "loc = '.'\n",
    "if loc=='':\n",
    "    print('Error, please enter webdriver address. Stopping.')\n",
    "driver = webdriver.Chrome(loc)"
   ]
  },
  {
   "cell_type": "code",
   "execution_count": null,
   "metadata": {},
   "outputs": [],
   "source": [
    "# go to website\n",
    "driver.get('https://www.superherostuff.com/')"
   ]
  },
  {
   "cell_type": "code",
   "execution_count": null,
   "metadata": {},
   "outputs": [],
   "source": [
    "for hero in ['wonder woman', 'batman', 'superman', 'flash']:\n",
    "    "
   ]
  },
  {
   "cell_type": "code",
   "execution_count": null,
   "metadata": {},
   "outputs": [],
   "source": [
    "def main():\n",
    "    #initialize dataframe to store scraped data\n",
    "    df = pd.DataFrame(columns=['year', 'title', 'ratings', 'madeit', 'reviews', 'photos', 'submitter_description',\n",
    "                     'ingredients', 'readyin', 'servings', 'calories', 'fat', 'carbohydrate', 'protein'])\n",
    "\n",
    "    for link in main_pages:\n",
    "        year = link.split('/')[-2]\n",
    "        #navigate to Hall of Fame - year page\n",
    "        driver.get(link)\n",
    "\n",
    "        #get links to all 20 recipes in page    \n",
    "        recipes = [element.get_attribute('href').split('?internalSource')[0] for element in \n",
    "                       driver.find_elements_by_xpath(\"//div[@class='fixed-recipe-card__info']//a\")]\n",
    "        recipes = set([url for url in recipes if '/recipe/' in url])\n",
    "        assert len(recipes)==20 #just a quick check\n",
    "\n",
    "        time.sleep(5)\n",
    "\n",
    "        for recipe_link in recipes:\n",
    "            #navigate to recipe\n",
    "            driver.get(recipe_link)\n",
    "\n",
    "            #initialize series to hold recipe facts\n",
    "            s = pd.Series(index=['year', 'title', 'ratings', 'madeit', 'reviews', 'photos', 'submitter_description',\n",
    "                     'ingredients', 'readyin', 'servings', 'calories', 'fat', 'carbohydrate', 'protein'])\n",
    "            s.loc['year'] = year\n",
    "\n",
    "            try:\n",
    "                s.loc['title'] = driver.find_elements_by_xpath(\"//h1[@class='recipe-summary__h1']\")[0].text\n",
    "            except:\n",
    "                pass\n",
    "\n",
    "            try:\n",
    "                s.loc['ratings'] = driver.find_elements_by_xpath(\"//div[@class='rating-stars']\")[0].get_attribute('data-ratingstars')\n",
    "            except:\n",
    "                pass\n",
    "\n",
    "            try:\n",
    "                s.loc['madeit'] = driver.find_elements_by_xpath(\"//span[@class='made-it-count ng-binding']\")[0].text\n",
    "            except:\n",
    "                pass\n",
    "\n",
    "            try:\n",
    "                s.loc['reviews'] = driver.find_elements_by_xpath(\"//span[@class='review-count']\")[0].text.split()[0]\n",
    "            except:\n",
    "                pass\n",
    "\n",
    "            try:\n",
    "                s.loc['photos'] = driver.find_elements_by_xpath(\"//span[@class='picture-count-link']\")[0].text.split()[0]\n",
    "            except:\n",
    "                pass\n",
    "\n",
    "            try:\n",
    "                s.loc['submitter_description'] = driver.find_elements_by_xpath(\"//div[@class='submitter__description']\")[0].text\n",
    "            except:\n",
    "                pass\n",
    "\n",
    "            try:\n",
    "                s.loc['ingredients'] = [element.text for element in driver.find_elements_by_xpath(\"//span[@class='recipe-ingred_txt added']\")]\n",
    "            except:\n",
    "                pass\n",
    "\n",
    "            try:\n",
    "                s.loc['readyin'] = driver.find_elements_by_xpath(\"//span[@class='ready-in-time']\")[0].text\n",
    "            except:\n",
    "                pass\n",
    "\n",
    "            try:\n",
    "                s.loc['servings'] = driver.find_elements_by_xpath(\"//span[@class='servings-count']//span\")[0].text\n",
    "            except:\n",
    "                pass\n",
    "\n",
    "            try:\n",
    "                s.loc['calories'] = driver.find_elements_by_xpath(\"//span[@class='calorie-count']//span\")[0].text\n",
    "            except:\n",
    "                pass\n",
    "\n",
    "            for string in ['fatContent', 'carbohydrateContent', 'proteinContent']:\n",
    "                try:\n",
    "                    s.loc[re.split(r\"[A-Z]\", string)[0]] = driver.find_elements_by_xpath(\"//span[@itemprop='{}']\".format(string))[0].text\n",
    "                except:\n",
    "                    pass\n",
    "\n",
    "            df = df.append(s, ignore_index=True)\n",
    "            time.sleep(5)\n",
    "\n",
    "    driver.quit()\n",
    "    df.to_csv('allrecipes.csv')\n",
    "\n",
    "main()"
   ]
  }
 ],
 "metadata": {
  "kernelspec": {
   "display_name": "Python 3",
   "language": "python",
   "name": "python3"
  },
  "language_info": {
   "codemirror_mode": {
    "name": "ipython",
    "version": 3
   },
   "file_extension": ".py",
   "mimetype": "text/x-python",
   "name": "python",
   "nbconvert_exporter": "python",
   "pygments_lexer": "ipython3",
   "version": "3.7.3"
  }
 },
 "nbformat": 4,
 "nbformat_minor": 2
}
