{
 "cells": [
  {
   "cell_type": "markdown",
   "metadata": {},
   "source": [
    "# Twitter scraper by Paige McKenzie\n",
    "\n",
    "Includes code to access data used in my [blog post](https://p-mckenzie.github.io/2018/03/12/Bachelor-finale/)."
   ]
  },
  {
   "cell_type": "code",
   "execution_count": null,
   "metadata": {
    "collapsed": true
   },
   "outputs": [],
   "source": [
    "import twitter\n",
    "## Uses python-twitter (not twitter)\n",
    "import pandas as pd\n",
    "import time\n",
    "import datetime\n",
    "import re"
   ]
  },
  {
   "cell_type": "markdown",
   "metadata": {},
   "source": [
    "### Set up Twitter tokens"
   ]
  },
  {
   "cell_type": "code",
   "execution_count": null,
   "metadata": {
    "collapsed": true
   },
   "outputs": [],
   "source": [
    "import twitter_tokens"
   ]
  },
  {
   "cell_type": "markdown",
   "metadata": {},
   "source": [
    "### Start API and pull data"
   ]
  },
  {
   "cell_type": "code",
   "execution_count": null,
   "metadata": {
    "collapsed": true
   },
   "outputs": [],
   "source": [
    "api = twitter.Api(consumer_key=twitter_tokens.consumer_key,\n",
    "  consumer_secret=twitter_tokens.consumer_secret,\n",
    "    access_token_key=twitter_tokens.access_token,\n",
    "    access_token_secret=twitter_tokens.access_secret)"
   ]
  },
  {
   "cell_type": "code",
   "execution_count": null,
   "metadata": {
    "collapsed": true
   },
   "outputs": [],
   "source": [
    "print(api.VerifyCredentials().name)"
   ]
  },
  {
   "cell_type": "code",
   "execution_count": null,
   "metadata": {
    "collapsed": true,
    "scrolled": false
   },
   "outputs": [],
   "source": [
    "def add_data(tweets, df):\n",
    "    try:\n",
    "        start = max(df.index)\n",
    "    except:\n",
    "        start = len(df)\n",
    "    for idx,line in enumerate(tweets):\n",
    "        line = twitter.models.Status.AsDict(line)\n",
    "        s = pd.Series(index=df.columns)\n",
    "        \n",
    "        try:\n",
    "            s['screen_name'] = line['user']['screen_name']\n",
    "        except:\n",
    "            s['screen_name'] = ''\n",
    "        try:\n",
    "            s['text'] = line['text']\n",
    "        except:\n",
    "            s['text'] = ''\n",
    "\n",
    "        try:\n",
    "            s['name'] = line['user']['name']\n",
    "        except KeyError:\n",
    "            s['name'] = ''\n",
    "\n",
    "        try:\n",
    "            s['time'] = line['created_at']\n",
    "        except:\n",
    "            s['time'] = 0\n",
    "        try:\n",
    "            s['favorites'] = line['favorite_count']\n",
    "        except KeyError:\n",
    "            s['favorites'] = 0\n",
    "\n",
    "        try:\n",
    "            s['retweets'] = line['retweet_count']\n",
    "        except KeyError:\n",
    "            s['retweets'] = 0\n",
    "\n",
    "        try:\n",
    "            s['location'] = line['user']['location']\n",
    "        except KeyError:\n",
    "            s['location'] = ''\n",
    "\n",
    "        df.loc[start+idx] = s\n",
    "        \n",
    "    for col in df.columns:\n",
    "        try:\n",
    "            df[col] = df[col].apply(lambda x:re.sub(r\"[^ -~]+\", '', x))\n",
    "        except:\n",
    "            pass\n",
    "    return df"
   ]
  },
  {
   "cell_type": "code",
   "execution_count": null,
   "metadata": {
    "collapsed": true
   },
   "outputs": [],
   "source": [
    "columns = ['screen_name','text', 'name', 'time', 'location', 'favorites', 'retweets']\n",
    "df = pd.DataFrame(columns=columns)\n",
    "\n",
    "start = 1\n",
    "iterations = 0\n",
    "tweets = []\n",
    "cont = True"
   ]
  },
  {
   "cell_type": "code",
   "execution_count": null,
   "metadata": {
    "collapsed": true,
    "scrolled": true
   },
   "outputs": [],
   "source": [
    "while cont:\n",
    "    try:\n",
    "        new_tweets = api.GetSearch(term='bachelor%20OR%20bachelorette%20OR%20arie%20OR%20becca', \n",
    "                                   count=100, max_id=start)\n",
    "        cont = len(new_tweets)>0\n",
    "        tweets += new_tweets\n",
    "        start = min([x.id for x in tweets])\n",
    "        iterations += 1\n",
    "    except:\n",
    "        if len(tweets)>0:\n",
    "            print 'Adding data at {}. Have scraped {} iterations.'.format(datetime.datetime.now().strftime('%H:%M'), iterations)\n",
    "            df = add_data(tweets, df)\n",
    "            tweets = []\n",
    "            if len(df)>65000:\n",
    "                print 'Saving data as twitter_{}.csv'.format(iterations)\n",
    "                df.to_csv('twitter_{}.csv'.format(iterations))\n",
    "                del df\n",
    "                df = pd.DataFrame(columns=columns)\n",
    "        else:\n",
    "            time.sleep(60*5)\n",
    "print 'Finished at', datetime.datetime.now().strftime('%H:%M')"
   ]
  }
 ],
 "metadata": {
  "kernelspec": {
   "display_name": "Python 2",
   "language": "python",
   "name": "python2"
  },
  "language_info": {
   "codemirror_mode": {
    "name": "ipython",
    "version": 2
   },
   "file_extension": ".py",
   "mimetype": "text/x-python",
   "name": "python",
   "nbconvert_exporter": "python",
   "pygments_lexer": "ipython2",
   "version": "2.7.14"
  }
 },
 "nbformat": 4,
 "nbformat_minor": 2
}
