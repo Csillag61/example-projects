{
 "cells": [
  {
   "cell_type": "markdown",
   "metadata": {},
   "source": [
    "# Collaborative Filtering project by Paige McKenzie\n",
    "\n",
    "Includes code to perform analysis discussed in my [blog post](https://p-mckenzie.github.io/2020/03/03/collaborative-filtering/).\n",
    "\n",
    "[Dataset](https://www.kaggle.com/azathoth42/myanimelist/version/9) available here."
   ]
  },
  {
   "cell_type": "code",
   "execution_count": 1,
   "metadata": {},
   "outputs": [
    {
     "name": "stdout",
     "output_type": "stream",
     "text": [
      "Populating the interactive namespace from numpy and matplotlib\n"
     ]
    }
   ],
   "source": [
    "import pandas as pd\n",
    "import numpy as np\n",
    "import re\n",
    "\n",
    "import matplotlib.pyplot as plt\n",
    "%pylab inline"
   ]
  },
  {
   "cell_type": "code",
   "execution_count": 2,
   "metadata": {},
   "outputs": [],
   "source": [
    "# import data\n",
    "shows = pd.read_csv('anime_filtered.csv', index_col='anime_id', usecols=['title', 'anime_id'])\n",
    "reviews = pd.read_csv('animelists_filtered.csv', nrows=200000, usecols=['username', 'anime_id', 'my_score'])"
   ]
  },
  {
   "cell_type": "code",
   "execution_count": 3,
   "metadata": {},
   "outputs": [],
   "source": [
    "# downsample to a complete set of reviews for a subset of shows\n",
    "reviews = reviews[reviews['anime_id'].isin(reviews['anime_id'].unique()[:-1])]"
   ]
  },
  {
   "cell_type": "code",
   "execution_count": 4,
   "metadata": {},
   "outputs": [
    {
     "data": {
      "text/html": [
       "<div>\n",
       "<style scoped>\n",
       "    .dataframe tbody tr th:only-of-type {\n",
       "        vertical-align: middle;\n",
       "    }\n",
       "\n",
       "    .dataframe tbody tr th {\n",
       "        vertical-align: top;\n",
       "    }\n",
       "\n",
       "    .dataframe thead th {\n",
       "        text-align: right;\n",
       "    }\n",
       "</style>\n",
       "<table border=\"1\" class=\"dataframe\">\n",
       "  <thead>\n",
       "    <tr style=\"text-align: right;\">\n",
       "      <th>anime_id</th>\n",
       "      <th>21</th>\n",
       "      <th>59</th>\n",
       "      <th>74</th>\n",
       "      <th>120</th>\n",
       "      <th>178</th>\n",
       "      <th>210</th>\n",
       "      <th>232</th>\n",
       "      <th>233</th>\n",
       "    </tr>\n",
       "    <tr>\n",
       "      <th>username</th>\n",
       "      <th></th>\n",
       "      <th></th>\n",
       "      <th></th>\n",
       "      <th></th>\n",
       "      <th></th>\n",
       "      <th></th>\n",
       "      <th></th>\n",
       "      <th></th>\n",
       "    </tr>\n",
       "  </thead>\n",
       "  <tbody>\n",
       "    <tr>\n",
       "      <th>----phoebelyn</th>\n",
       "      <td>0.0</td>\n",
       "      <td>NaN</td>\n",
       "      <td>NaN</td>\n",
       "      <td>0.0</td>\n",
       "      <td>NaN</td>\n",
       "      <td>NaN</td>\n",
       "      <td>NaN</td>\n",
       "      <td>NaN</td>\n",
       "    </tr>\n",
       "    <tr>\n",
       "      <th>--AnimeBoy--</th>\n",
       "      <td>6.0</td>\n",
       "      <td>6.0</td>\n",
       "      <td>6.0</td>\n",
       "      <td>NaN</td>\n",
       "      <td>NaN</td>\n",
       "      <td>7.0</td>\n",
       "      <td>7.0</td>\n",
       "      <td>NaN</td>\n",
       "    </tr>\n",
       "    <tr>\n",
       "      <th>--CyberShadow--</th>\n",
       "      <td>9.0</td>\n",
       "      <td>NaN</td>\n",
       "      <td>8.0</td>\n",
       "      <td>9.0</td>\n",
       "      <td>NaN</td>\n",
       "      <td>NaN</td>\n",
       "      <td>NaN</td>\n",
       "      <td>NaN</td>\n",
       "    </tr>\n",
       "    <tr>\n",
       "      <th>--FallenAngel--</th>\n",
       "      <td>9.0</td>\n",
       "      <td>8.0</td>\n",
       "      <td>NaN</td>\n",
       "      <td>NaN</td>\n",
       "      <td>NaN</td>\n",
       "      <td>8.0</td>\n",
       "      <td>NaN</td>\n",
       "      <td>NaN</td>\n",
       "    </tr>\n",
       "    <tr>\n",
       "      <th>--Kin--</th>\n",
       "      <td>10.0</td>\n",
       "      <td>NaN</td>\n",
       "      <td>NaN</td>\n",
       "      <td>7.0</td>\n",
       "      <td>NaN</td>\n",
       "      <td>NaN</td>\n",
       "      <td>8.0</td>\n",
       "      <td>NaN</td>\n",
       "    </tr>\n",
       "  </tbody>\n",
       "</table>\n",
       "</div>"
      ],
      "text/plain": [
       "anime_id          21   59   74   120  178  210  232  233\n",
       "username                                                \n",
       "----phoebelyn     0.0  NaN  NaN  0.0  NaN  NaN  NaN  NaN\n",
       "--AnimeBoy--      6.0  6.0  6.0  NaN  NaN  7.0  7.0  NaN\n",
       "--CyberShadow--   9.0  NaN  8.0  9.0  NaN  NaN  NaN  NaN\n",
       "--FallenAngel--   9.0  8.0  NaN  NaN  NaN  8.0  NaN  NaN\n",
       "--Kin--          10.0  NaN  NaN  7.0  NaN  NaN  8.0  NaN"
      ]
     },
     "execution_count": 4,
     "metadata": {},
     "output_type": "execute_result"
    }
   ],
   "source": [
    "# pivot for one row per user, and column per anime\n",
    "reviews = pd.pivot_table(reviews, index='username', columns='anime_id', values='my_score', aggfunc=max)\n",
    "\n",
    "reviews.head()"
   ]
  },
  {
   "cell_type": "code",
   "execution_count": 5,
   "metadata": {},
   "outputs": [
    {
     "data": {
      "text/plain": [
       "[210, 232, 233]"
      ]
     },
     "execution_count": 5,
     "metadata": {},
     "output_type": "execute_result"
    }
   ],
   "source": [
    "# define our target shows\n",
    "target_cols = [210, 232, 233]\n",
    "non_targets = [col for col in reviews.columns if col not in target_cols]\n",
    "target_cols"
   ]
  },
  {
   "cell_type": "code",
   "execution_count": 6,
   "metadata": {},
   "outputs": [
    {
     "data": {
      "text/plain": [
       "array(['Ranma ½', 'Cardcaptor Sakura', 'Daa! Daa! Daa!'], dtype=object)"
      ]
     },
     "execution_count": 6,
     "metadata": {},
     "output_type": "execute_result"
    }
   ],
   "source": [
    "shows.loc[target_cols, 'title'].values"
   ]
  },
  {
   "cell_type": "code",
   "execution_count": 7,
   "metadata": {},
   "outputs": [],
   "source": [
    "# only keep users who have rated at least one target show\n",
    "# also only keep users who have rated at least one other show (users we have some information about)\n",
    "reviews = reviews.loc[reviews[target_cols].notna().max(axis=1) \n",
    "                      & (reviews.drop(target_cols, axis=1).notna().sum(axis=1)>0)]"
   ]
  },
  {
   "cell_type": "code",
   "execution_count": 8,
   "metadata": {},
   "outputs": [
    {
     "data": {
      "text/plain": [
       "anime_id\n",
       "210    0.488617\n",
       "232    0.773286\n",
       "233    0.081593\n",
       "dtype: float64"
      ]
     },
     "execution_count": 8,
     "metadata": {},
     "output_type": "execute_result"
    }
   ],
   "source": [
    "reviews[target_cols].notna().mean()"
   ]
  },
  {
   "cell_type": "code",
   "execution_count": 9,
   "metadata": {},
   "outputs": [
    {
     "data": {
      "image/png": "[encoded data removed]",
      "text/plain": [
       "<Figure size 720x720 with 3 Axes>"
      ]
     },
     "metadata": {},
     "output_type": "display_data"
    }
   ],
   "source": [
    "plt.figure(figsize=(10,10))\n",
    "\n",
    "plt.subplot(311)\n",
    "plt.title(\"Distribution of reviews for '{}'\".format(shows.loc[target_cols[0], 'title']))\n",
    "plt.hist(reviews[target_cols[0]].dropna())\n",
    "plt.axvline(reviews[target_cols[0]].median(), color='purple', ls='--')\n",
    "\n",
    "pyplot.subplot(312)\n",
    "plt.title(\"Distribution of reviews for '{}'\".format(shows.loc[target_cols[1], 'title']))\n",
    "plt.hist(reviews[target_cols[1]].dropna())\n",
    "plt.axvline(reviews[target_cols[1]].median(), color='purple', ls='--')\n",
    "\n",
    "pyplot.subplot(313)\n",
    "plt.title(\"Distribution of reviews for '{}'\".format(shows.loc[target_cols[2], 'title']))\n",
    "plt.hist(reviews[target_cols[2]].dropna())\n",
    "plt.axvline(reviews[target_cols[2]].median(), color='purple', ls='--')\n",
    "\n",
    "#pyplot.savefig('graphs.jpg',dpi=800)\n",
    "plt.show()"
   ]
  },
  {
   "cell_type": "markdown",
   "metadata": {},
   "source": [
    "We can see that the majority of people who bother to rate a show do so to assert their dislike of it (hense the spike at zero). Everybody else offered a little more granularity, with most people really liking it (a score of 10) with a tail towards zero. Clearly, we would never want to recommend this show to someone who we think is going to hate it."
   ]
  },
  {
   "cell_type": "code",
   "execution_count": 10,
   "metadata": {},
   "outputs": [
    {
     "data": {
      "image/png": "[encoded data removed]",
      "text/plain": [
       "<Figure size 432x288 with 1 Axes>"
      ]
     },
     "metadata": {},
     "output_type": "display_data"
    }
   ],
   "source": [
    "ratings = np.array([[6,6,1,4,8,2],\n",
    "                     [7,3,1,8,3,4]]).T\n",
    "\n",
    "labels = ['User '+chr(65+i) for i in range(ratings.shape[0])]\n",
    "\n",
    "for (x,y),label in zip(ratings, labels):\n",
    "    plt.scatter(x, y, marker='x', color='blue')\n",
    "    plt.text(x+0.2, y+0.2, label, fontsize=10)\n",
    "    #plt.plot([0, x], [0, y], color='grey', linestyle='--')\n",
    "\n",
    "plt.xlim((0,10))\n",
    "plt.ylim((0,10))\n",
    "plt.grid(which='both', linestyle='--')\n",
    "plt.title(\"Example user ratings\")\n",
    "plt.xlabel(\"Rating for show A\")\n",
    "plt.ylabel(\"Rating for show B\")\n",
    "plt.show()\n",
    "#plt.savefig('demo_with_lines.jpg',dpi=800)"
   ]
  },
  {
   "cell_type": "markdown",
   "metadata": {},
   "source": [
    "For this exercise, we'll split the dataset into two groups:\n",
    "\n",
    "1. Train (the \"known\") - users who have scored the show we'll recommend, and whose scores we'll use to model\n",
    "2. Test (the \"unknown\") - users who have scored the show we'll recommend, but whose scores we'll ignore and only use at the end, for measuring how well we targeted the subset that would enjoy the show\n",
    "\n",
    "Our goal for this project is to successfully predict how an unknown user would rate a new show, given their existing watching preferences."
   ]
  },
  {
   "cell_type": "code",
   "execution_count": 11,
   "metadata": {},
   "outputs": [],
   "source": [
    "from sklearn.model_selection import train_test_split\n",
    "\n",
    "train, test = train_test_split(reviews, test_size=.3, random_state=1)\n",
    "\n",
    "#del reviews"
   ]
  },
  {
   "cell_type": "code",
   "execution_count": 12,
   "metadata": {},
   "outputs": [
    {
     "name": "stdout",
     "output_type": "stream",
     "text": [
      "Error in scores when recommending 'Ranma ½' (median baseline): 3.47\n",
      "Error in scores when recommending 'Cardcaptor Sakura' (median baseline): 3.37\n",
      "Error in scores when recommending 'Daa! Daa! Daa!' (median baseline): 3.82\n"
     ]
    }
   ],
   "source": [
    "from sklearn.metrics import mean_absolute_error\n",
    "\n",
    "# baseline (median)\n",
    "baselines = []\n",
    "\n",
    "for target_col in target_cols:\n",
    "    score = mean_absolute_error(test[target_col].dropna(),\n",
    "                    np.repeat(train[target_col].median(), test[target_col].notna().sum()))\n",
    "    baselines.append(score)\n",
    "    print(\"Error in scores when recommending '{}' (median baseline): {}\".format(shows.loc[target_col, 'title'],\n",
    "        round(score, 2)))"
   ]
  },
  {
   "cell_type": "markdown",
   "metadata": {},
   "source": [
    "## Collaborative Filtering"
   ]
  },
  {
   "cell_type": "code",
   "execution_count": 13,
   "metadata": {},
   "outputs": [],
   "source": [
    "train_targets = train[target_cols]\n",
    "test_targets = test[target_cols]\n",
    "\n",
    "train = train.drop(target_cols, axis=1)\n",
    "test = test.drop(target_cols, axis=1)"
   ]
  },
  {
   "cell_type": "code",
   "execution_count": 14,
   "metadata": {},
   "outputs": [],
   "source": [
    "# zero-center reviews, saving the average per user\n",
    "train_mean = train.mean(axis=1)\n",
    "test_mean = test.mean(axis=1)\n",
    "\n",
    "train = train.apply(lambda col:col-train_mean)\n",
    "test = test.apply(lambda col:col-test_mean)\n",
    "\n",
    "train_targets = train_targets.apply(lambda col:col-train_mean)\n",
    "test_targets = test_targets.apply(lambda col:col-test_mean)"
   ]
  },
  {
   "cell_type": "code",
   "execution_count": 15,
   "metadata": {},
   "outputs": [],
   "source": [
    "# find inter-user similarity (ignoring our target columns)\n",
    "from sklearn.metrics.pairwise import cosine_similarity\n",
    "\n",
    "sim = pd.DataFrame(cosine_similarity(train.fillna(0), test.fillna(0)), \n",
    "                   index=train.index, columns=test.index)"
   ]
  },
  {
   "cell_type": "code",
   "execution_count": 16,
   "metadata": {},
   "outputs": [
    {
     "data": {
      "text/plain": [
       "(20847, 8935)"
      ]
     },
     "execution_count": 16,
     "metadata": {},
     "output_type": "execute_result"
    }
   ],
   "source": [
    "# one row per known user, one column per unknown user\n",
    "sim.shape"
   ]
  },
  {
   "cell_type": "code",
   "execution_count": 17,
   "metadata": {},
   "outputs": [
    {
     "name": "stdout",
     "output_type": "stream",
     "text": [
      "Error in scores when recommending 'Ranma ½' (single most similar user): 3.36, decreasing the baseline error by 2.9%\n",
      "Error in scores when recommending 'Ranma ½' (25 most similar users): 2.95, decreasing the baseline error by 14.9%\n",
      "\n",
      "Error in scores when recommending 'Cardcaptor Sakura' (single most similar user): 3.13, decreasing the baseline error by 7.0%\n",
      "Error in scores when recommending 'Cardcaptor Sakura' (25 most similar users): 2.82, decreasing the baseline error by 16.2%\n",
      "\n",
      "Error in scores when recommending 'Daa! Daa! Daa!' (single most similar user): 2.83, decreasing the baseline error by 25.8%\n",
      "Error in scores when recommending 'Daa! Daa! Daa!' (25 most similar users): 2.58, decreasing the baseline error by 32.5%\n",
      "\n"
     ]
    }
   ],
   "source": [
    "for target_col, baseline in zip(target_cols, baselines):\n",
    "    # actual ratings for first target show (for those users in the test set who rated it)\n",
    "    actual = (test_targets[target_col]+test_mean).dropna()\n",
    "    \n",
    "    # get the most similar user's adjustment on this show, \n",
    "    ## then apply that adjustment to the unknown user's avg score\n",
    "    pred_single = sim.loc[train_targets[target_col].notna(), test_targets[target_col].notna()].apply(lambda col:\n",
    "                          train_targets.loc[col.idxmax(), target_col] if col.max()>0 else 0)+test_mean.reindex(actual.index)\n",
    "    \n",
    "    pred_multiple = sim.loc[train_targets[target_col].notna(), test_targets[target_col].notna()].apply(lambda col:\n",
    "                          train_targets.loc[col.nlargest(15).index, target_col][col.nlargest(15)>0].mean()).fillna(0)+test_mean.reindex(actual.index)\n",
    "    \n",
    "    # adjust impossible scores\n",
    "    pred_single[pred_single<0] = 0\n",
    "    pred_single[pred_single>10] = 10\n",
    "    pred_multiple[pred_multiple<0] = 0\n",
    "    pred_multiple[pred_multiple>10] = 10\n",
    "\n",
    "    score_single = mean_absolute_error(actual,\n",
    "                                pred_single)\n",
    "    score_multiple = mean_absolute_error(actual,\n",
    "                                pred_multiple)\n",
    "    \n",
    "    print(\"Error in scores when recommending '{0}' (single most similar user): {1}, decreasing the baseline error by {2:.1%}\".format(shows.loc[target_col, 'title'],\n",
    "        round(score_single, 2),\n",
    "        (baseline-score_single)/baseline))\n",
    "    print(\"Error in scores when recommending '{0}' (25 most similar users): {1}, decreasing the baseline error by {2:.1%}\".format(shows.loc[target_col, 'title'],\n",
    "        round(score_multiple, 2),\n",
    "        (baseline-score_multiple)/baseline))\n",
    "    print()"
   ]
  },
  {
   "cell_type": "markdown",
   "metadata": {},
   "source": [
    "Sure enough, it looks like the wisdom of the herd does really well!"
   ]
  },
  {
   "cell_type": "markdown",
   "metadata": {},
   "source": [
    "## The true power of Collaborative Filtering\n",
    "\n",
    "Dataset reduction! We only need to \"remember\" a handful of user's preferences, rather than all of them."
   ]
  },
  {
   "cell_type": "code",
   "execution_count": 18,
   "metadata": {},
   "outputs": [
    {
     "data": {
      "text/html": [
       "<div>\n",
       "<style scoped>\n",
       "    .dataframe tbody tr th:only-of-type {\n",
       "        vertical-align: middle;\n",
       "    }\n",
       "\n",
       "    .dataframe tbody tr th {\n",
       "        vertical-align: top;\n",
       "    }\n",
       "\n",
       "    .dataframe thead th {\n",
       "        text-align: right;\n",
       "    }\n",
       "</style>\n",
       "<table border=\"1\" class=\"dataframe\">\n",
       "  <thead>\n",
       "    <tr style=\"text-align: right;\">\n",
       "      <th>anime_id</th>\n",
       "      <th>21</th>\n",
       "      <th>59</th>\n",
       "      <th>74</th>\n",
       "      <th>120</th>\n",
       "      <th>178</th>\n",
       "      <th>210</th>\n",
       "      <th>232</th>\n",
       "      <th>233</th>\n",
       "    </tr>\n",
       "    <tr>\n",
       "      <th>username</th>\n",
       "      <th></th>\n",
       "      <th></th>\n",
       "      <th></th>\n",
       "      <th></th>\n",
       "      <th></th>\n",
       "      <th></th>\n",
       "      <th></th>\n",
       "      <th></th>\n",
       "    </tr>\n",
       "  </thead>\n",
       "  <tbody>\n",
       "    <tr>\n",
       "      <th>--AnimeBoy--</th>\n",
       "      <td>6.0</td>\n",
       "      <td>6.0</td>\n",
       "      <td>6.0</td>\n",
       "      <td>NaN</td>\n",
       "      <td>NaN</td>\n",
       "      <td>7.0</td>\n",
       "      <td>7.0</td>\n",
       "      <td>NaN</td>\n",
       "    </tr>\n",
       "    <tr>\n",
       "      <th>--FallenAngel--</th>\n",
       "      <td>9.0</td>\n",
       "      <td>8.0</td>\n",
       "      <td>NaN</td>\n",
       "      <td>NaN</td>\n",
       "      <td>NaN</td>\n",
       "      <td>8.0</td>\n",
       "      <td>NaN</td>\n",
       "      <td>NaN</td>\n",
       "    </tr>\n",
       "    <tr>\n",
       "      <th>--Kin--</th>\n",
       "      <td>10.0</td>\n",
       "      <td>NaN</td>\n",
       "      <td>NaN</td>\n",
       "      <td>7.0</td>\n",
       "      <td>NaN</td>\n",
       "      <td>NaN</td>\n",
       "      <td>8.0</td>\n",
       "      <td>NaN</td>\n",
       "    </tr>\n",
       "    <tr>\n",
       "      <th>--RIE--</th>\n",
       "      <td>6.0</td>\n",
       "      <td>0.0</td>\n",
       "      <td>5.0</td>\n",
       "      <td>NaN</td>\n",
       "      <td>NaN</td>\n",
       "      <td>NaN</td>\n",
       "      <td>0.0</td>\n",
       "      <td>NaN</td>\n",
       "    </tr>\n",
       "    <tr>\n",
       "      <th>-0_o-</th>\n",
       "      <td>NaN</td>\n",
       "      <td>0.0</td>\n",
       "      <td>0.0</td>\n",
       "      <td>NaN</td>\n",
       "      <td>0.0</td>\n",
       "      <td>10.0</td>\n",
       "      <td>9.0</td>\n",
       "      <td>0.0</td>\n",
       "    </tr>\n",
       "  </tbody>\n",
       "</table>\n",
       "</div>"
      ],
      "text/plain": [
       "anime_id          21   59   74   120  178   210  232  233\n",
       "username                                                 \n",
       "--AnimeBoy--      6.0  6.0  6.0  NaN  NaN   7.0  7.0  NaN\n",
       "--FallenAngel--   9.0  8.0  NaN  NaN  NaN   8.0  NaN  NaN\n",
       "--Kin--          10.0  NaN  NaN  7.0  NaN   NaN  8.0  NaN\n",
       "--RIE--           6.0  0.0  5.0  NaN  NaN   NaN  0.0  NaN\n",
       "-0_o-             NaN  0.0  0.0  NaN  0.0  10.0  9.0  0.0"
      ]
     },
     "execution_count": 18,
     "metadata": {},
     "output_type": "execute_result"
    }
   ],
   "source": [
    "reviews.head()"
   ]
  },
  {
   "cell_type": "code",
   "execution_count": 19,
   "metadata": {},
   "outputs": [
    {
     "data": {
      "text/plain": [
       "(29782, 8)"
      ]
     },
     "execution_count": 19,
     "metadata": {},
     "output_type": "execute_result"
    }
   ],
   "source": [
    "reviews.shape"
   ]
  },
  {
   "cell_type": "code",
   "execution_count": 20,
   "metadata": {},
   "outputs": [
    {
     "name": "stdout",
     "output_type": "stream",
     "text": [
      "Current memory usage: 2.14 MB\n"
     ]
    }
   ],
   "source": [
    "prev_mem = reviews.memory_usage().sum()\n",
    "print(\"Current memory usage: {} MB\".format(round(prev_mem/(10**6), 2)))"
   ]
  },
  {
   "cell_type": "code",
   "execution_count": 21,
   "metadata": {},
   "outputs": [
    {
     "data": {
      "text/html": [
       "<div>\n",
       "<style scoped>\n",
       "    .dataframe tbody tr th:only-of-type {\n",
       "        vertical-align: middle;\n",
       "    }\n",
       "\n",
       "    .dataframe tbody tr th {\n",
       "        vertical-align: top;\n",
       "    }\n",
       "\n",
       "    .dataframe thead th {\n",
       "        text-align: right;\n",
       "    }\n",
       "</style>\n",
       "<table border=\"1\" class=\"dataframe\">\n",
       "  <thead>\n",
       "    <tr style=\"text-align: right;\">\n",
       "      <th></th>\n",
       "      <th>21</th>\n",
       "      <th>59</th>\n",
       "      <th>74</th>\n",
       "      <th>120</th>\n",
       "      <th>178</th>\n",
       "      <th>210</th>\n",
       "      <th>232</th>\n",
       "      <th>233</th>\n",
       "      <th>weight</th>\n",
       "    </tr>\n",
       "  </thead>\n",
       "  <tbody>\n",
       "    <tr>\n",
       "      <th>0</th>\n",
       "      <td>NaN</td>\n",
       "      <td>NaN</td>\n",
       "      <td>NaN</td>\n",
       "      <td>NaN</td>\n",
       "      <td>0.0</td>\n",
       "      <td>3.777778</td>\n",
       "      <td>5.542857</td>\n",
       "      <td>4.333333</td>\n",
       "      <td>43</td>\n",
       "    </tr>\n",
       "    <tr>\n",
       "      <th>1</th>\n",
       "      <td>NaN</td>\n",
       "      <td>NaN</td>\n",
       "      <td>NaN</td>\n",
       "      <td>NaN</td>\n",
       "      <td>2.0</td>\n",
       "      <td>NaN</td>\n",
       "      <td>4.500000</td>\n",
       "      <td>NaN</td>\n",
       "      <td>2</td>\n",
       "    </tr>\n",
       "    <tr>\n",
       "      <th>2</th>\n",
       "      <td>NaN</td>\n",
       "      <td>NaN</td>\n",
       "      <td>NaN</td>\n",
       "      <td>NaN</td>\n",
       "      <td>4.0</td>\n",
       "      <td>8.000000</td>\n",
       "      <td>6.000000</td>\n",
       "      <td>NaN</td>\n",
       "      <td>2</td>\n",
       "    </tr>\n",
       "    <tr>\n",
       "      <th>3</th>\n",
       "      <td>NaN</td>\n",
       "      <td>NaN</td>\n",
       "      <td>NaN</td>\n",
       "      <td>NaN</td>\n",
       "      <td>5.0</td>\n",
       "      <td>NaN</td>\n",
       "      <td>5.600000</td>\n",
       "      <td>3.500000</td>\n",
       "      <td>5</td>\n",
       "    </tr>\n",
       "    <tr>\n",
       "      <th>4</th>\n",
       "      <td>NaN</td>\n",
       "      <td>NaN</td>\n",
       "      <td>NaN</td>\n",
       "      <td>NaN</td>\n",
       "      <td>6.0</td>\n",
       "      <td>8.000000</td>\n",
       "      <td>7.666667</td>\n",
       "      <td>NaN</td>\n",
       "      <td>3</td>\n",
       "    </tr>\n",
       "  </tbody>\n",
       "</table>\n",
       "</div>"
      ],
      "text/plain": [
       "   21  59  74  120  178       210       232       233  weight\n",
       "0 NaN NaN NaN  NaN  0.0  3.777778  5.542857  4.333333      43\n",
       "1 NaN NaN NaN  NaN  2.0       NaN  4.500000       NaN       2\n",
       "2 NaN NaN NaN  NaN  4.0  8.000000  6.000000       NaN       2\n",
       "3 NaN NaN NaN  NaN  5.0       NaN  5.600000  3.500000       5\n",
       "4 NaN NaN NaN  NaN  6.0  8.000000  7.666667       NaN       3"
      ]
     },
     "execution_count": 21,
     "metadata": {},
     "output_type": "execute_result"
    }
   ],
   "source": [
    "# hack to groupby 'na' values as well\n",
    "reviews.loc[:,non_targets] = reviews.loc[:,non_targets].fillna(-1)\n",
    "\n",
    "reviews = pd.concat([reviews.groupby(non_targets)[target_cols].mean(), reviews.groupby(non_targets).size().rename('weight')],\n",
    "          axis=1).reset_index().replace(-1, np.nan)\n",
    "\n",
    "reviews.head()"
   ]
  },
  {
   "cell_type": "code",
   "execution_count": 22,
   "metadata": {},
   "outputs": [
    {
     "data": {
      "text/plain": [
       "(4146, 9)"
      ]
     },
     "execution_count": 22,
     "metadata": {},
     "output_type": "execute_result"
    }
   ],
   "source": [
    "reviews.shape"
   ]
  },
  {
   "cell_type": "code",
   "execution_count": 23,
   "metadata": {},
   "outputs": [
    {
     "name": "stdout",
     "output_type": "stream",
     "text": [
      "New memory usage: 0.3 MB\n"
     ]
    }
   ],
   "source": [
    "new_mem = reviews.memory_usage().sum()\n",
    "print(\"New memory usage: {} MB\".format(round(new_mem/(10**6), 2)))"
   ]
  },
  {
   "cell_type": "code",
   "execution_count": 24,
   "metadata": {},
   "outputs": [
    {
     "data": {
      "text/plain": [
       "0.13924891246763518"
      ]
     },
     "execution_count": 24,
     "metadata": {},
     "output_type": "execute_result"
    }
   ],
   "source": [
    "new_mem/prev_mem"
   ]
  }
 ],
 "metadata": {
  "kernelspec": {
   "display_name": "Python 3",
   "language": "python",
   "name": "python3"
  },
  "language_info": {
   "codemirror_mode": {
    "name": "ipython",
    "version": 3
   },
   "file_extension": ".py",
   "mimetype": "text/x-python",
   "name": "python",
   "nbconvert_exporter": "python",
   "pygments_lexer": "ipython3",
   "version": "3.6.5"
  }
 },
 "nbformat": 4,
 "nbformat_minor": 2
}
